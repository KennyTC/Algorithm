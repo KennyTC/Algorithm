{
  "nbformat": 4,
  "nbformat_minor": 0,
  "metadata": {
    "colab": {
      "name": "05_LoadSaveModel.ipynb",
      "provenance": [],
      "collapsed_sections": [],
      "authorship_tag": "ABX9TyPM9PnaFci2ARSLGnGnkpcW",
      "include_colab_link": true
    },
    "kernelspec": {
      "name": "python3",
      "display_name": "Python 3"
    },
    "language_info": {
      "name": "python"
    }
  },
  "cells": [
    {
      "cell_type": "markdown",
      "metadata": {
        "id": "view-in-github",
        "colab_type": "text"
      },
      "source": [
        "<a href=\"https://colab.research.google.com/github/KennyThinh/Algorithm/blob/master/05_LoadSaveModel.ipynb\" target=\"_parent\"><img src=\"https://colab.research.google.com/assets/colab-badge.svg\" alt=\"Open In Colab\"/></a>"
      ]
    },
    {
      "cell_type": "code",
      "metadata": {
        "id": "KUG8XFnQmTkl"
      },
      "source": [
        "import torch\n",
        "import torch.nn as nn\n",
        "import torch.optim as optim\n",
        "import torch.nn.functional as F\n",
        "from torch.utils.data import DataLoader\n",
        "import torchvision.datasets as datasets\n",
        "import torchvision.transforms as transforms"
      ],
      "execution_count": 1,
      "outputs": []
    },
    {
      "cell_type": "code",
      "metadata": {
        "id": "PCI0wXFlm_Cv"
      },
      "source": [
        "device = torch.device(\"cuda\" if torch.cuda.is_available() else \"cpu\")"
      ],
      "execution_count": 2,
      "outputs": []
    },
    {
      "cell_type": "code",
      "metadata": {
        "id": "XrQopEM4spUw",
        "colab": {
          "base_uri": "https://localhost:8080/"
        },
        "outputId": "af46f6a9-01bb-4207-86b0-93922e8942c7"
      },
      "source": [
        "!mkdir /dataset\n",
        "!wget www.di.ens.fr/~lelarge/MNIST.tar.gz -P /dataset\n",
        "!tar -zxvf /dataset/MNIST.tar.gz -C /dataset/"
      ],
      "execution_count": 8,
      "outputs": [
        {
          "output_type": "stream",
          "text": [
            "--2021-03-24 06:35:21--  http://www.di.ens.fr/~lelarge/MNIST.tar.gz\n",
            "Resolving www.di.ens.fr (www.di.ens.fr)... 129.199.99.14\n",
            "Connecting to www.di.ens.fr (www.di.ens.fr)|129.199.99.14|:80... connected.\n",
            "HTTP request sent, awaiting response... 302 Found\n",
            "Location: https://www.di.ens.fr/~lelarge/MNIST.tar.gz [following]\n",
            "--2021-03-24 06:35:22--  https://www.di.ens.fr/~lelarge/MNIST.tar.gz\n",
            "Connecting to www.di.ens.fr (www.di.ens.fr)|129.199.99.14|:443... connected.\n",
            "HTTP request sent, awaiting response... 200 OK\n",
            "Length: unspecified [application/x-gzip]\n",
            "Saving to: ‘/dataset/MNIST.tar.gz’\n",
            "\n",
            "MNIST.tar.gz            [            <=>     ]  33.20M  6.47MB/s    in 5.4s    \n",
            "\n",
            "2021-03-24 06:35:28 (6.17 MB/s) - ‘/dataset/MNIST.tar.gz’ saved [34813078]\n",
            "\n",
            "MNIST/\n",
            "MNIST/raw/\n",
            "MNIST/raw/train-labels-idx1-ubyte\n",
            "MNIST/raw/t10k-labels-idx1-ubyte.gz\n",
            "MNIST/raw/t10k-labels-idx1-ubyte\n",
            "MNIST/raw/t10k-images-idx3-ubyte.gz\n",
            "MNIST/raw/train-images-idx3-ubyte\n",
            "MNIST/raw/train-labels-idx1-ubyte.gz\n",
            "MNIST/raw/t10k-images-idx3-ubyte\n",
            "MNIST/raw/train-images-idx3-ubyte.gz\n",
            "MNIST/processed/\n",
            "MNIST/processed/training.pt\n",
            "MNIST/processed/test.pt\n"
          ],
          "name": "stdout"
        }
      ]
    },
    {
      "cell_type": "code",
      "metadata": {
        "id": "_d-FS2u_xc24"
      },
      "source": [
        "#input N*1*28*28 --> 28 time series, each series has 28 features\n",
        "class RNN(nn.Module):\n",
        "  def __init__(self, input_size, hidden_size, num_layers, num_classes):\n",
        "    super(RNN, self).__init__()\n",
        "    self.hidden_size = hidden_size\n",
        "    self.num_layers = num_layers\n",
        "    self.rnn = nn.RNN(input_size, hidden_size = hidden_size, num_layers= num_layers, batch_first = True)\n",
        "    self.fc = nn.Linear(hidden_size*sequence_length,num_classes)\n",
        "    \n",
        "\n",
        "  def forward(self, x):# x shape N*sequence_length*input_size\n",
        "    h0 = torch.zeros(self.num_layers,x.shape[0], self.hidden_size).to(device)\n",
        "    out, _ = self.rnn(x, h0) #because we set batch_first = True, then output will be (batch, seq, hidden_size)\n",
        "    out = out.reshape(out.shape[0],-1)\n",
        "    out = self.fc(out)\n",
        "    return out\n",
        "\n",
        "class GRU(nn.Module):\n",
        "  def __init__(self, input_size, hidden_size, num_layers, num_classes):\n",
        "    super(GRU, self).__init__()\n",
        "    self.hidden_size = hidden_size\n",
        "    self.num_layers = num_layers\n",
        "    self.gru = nn.GRU(input_size, hidden_size = hidden_size, num_layers= num_layers, batch_first = True)\n",
        "    self.fc = nn.Linear(hidden_size,num_classes)\n",
        "    \n",
        "\n",
        "  def forward(self, x):# x shape N*sequence_length*input_size\n",
        "    h0 = torch.zeros(self.num_layers,x.shape[0], self.hidden_size).to(device)\n",
        "    out, _ = self.gru(x, h0) \n",
        "    out = out[:,-1,:] #we want out is (N,hidden_size) so that we can feed to FC\n",
        "    out = self.fc(out)\n",
        "    return out\n",
        "\n",
        "class LSTM(nn.Module):\n",
        "  def __init__(self, input_size, hidden_size, num_layers, num_classes):\n",
        "    super(LSTM, self).__init__()\n",
        "    self.hidden_size = hidden_size\n",
        "    self.num_layers = num_layers\n",
        "    self.lstm = nn.LSTM(input_size, hidden_size = hidden_size, num_layers= num_layers, batch_first = True)\n",
        "    self.fc = nn.Linear(hidden_size,num_classes)    \n",
        "\n",
        "  def forward(self, x):# x shape N*sequence_length*input_size\n",
        "    h0 = torch.zeros(self.num_layers,x.shape[0], self.hidden_size).to(device)\n",
        "    c0 = torch.zeros(self.num_layers,x.shape[0], self.hidden_size).to(device)\n",
        "    out, _ = self.lstm(x, (h0,c0))\n",
        "    out = out[:,-1,:] #we want out is (N,hidden_size) so that we can feed to FC\n",
        "    out = self.fc(out)\n",
        "    return out\n"
      ],
      "execution_count": 4,
      "outputs": []
    },
    {
      "cell_type": "code",
      "metadata": {
        "id": "FdwAFNWtnJpJ"
      },
      "source": [
        "sequence_length= 28 \n",
        "input_size = 28 #features\n",
        "num_layers = 2 #no of RNN cell\n",
        "hidden_size = 128 #size of hidden state\n",
        "num_classes = 10\n",
        "num_epochs = 6\n",
        "batch_size = 64\n",
        "learning_rate = 0.001\n",
        "is_load_model = True"
      ],
      "execution_count": 20,
      "outputs": []
    },
    {
      "cell_type": "code",
      "metadata": {
        "id": "xDmijA0-5-7u"
      },
      "source": [
        "def save_model(dict_state, filename=\"checkpoint.pth.tar\"):\n",
        "  print(\"--> Saving checkpoint\")\n",
        "  torch.save(dict_state, filename)\n",
        "def load_model(filename=\"checkpoint.pth.tar\"):\n",
        "  print(\"<-- Load checkpoint\")\n",
        "  checkpoint = torch.load(filename)\n",
        "  model.load_state_dict(checkpoint[\"state_dict\"])\n",
        "  optimizer.load_state_dict(checkpoint[\"optimizer\"])\n"
      ],
      "execution_count": 21,
      "outputs": []
    },
    {
      "cell_type": "code",
      "metadata": {
        "id": "tjdovU-mnRmd"
      },
      "source": [
        "train_dataset = datasets.MNIST(root=\"/dataset/\",train=True, transform=transforms.ToTensor(), download=False)\n",
        "train_loader = DataLoader(train_dataset,batch_size=batch_size, shuffle=True)\n",
        "test_dataset = datasets.MNIST(root=\"/dataset/\", train=True, transform=transforms.ToTensor(), download=False)\n",
        "test_loader = DataLoader(test_dataset, batch_size=batch_size, shuffle=True)"
      ],
      "execution_count": 22,
      "outputs": []
    },
    {
      "cell_type": "code",
      "metadata": {
        "id": "Z_ed3bnJws94"
      },
      "source": [
        "# model = RNN(input_size, hidden_size, num_layers, num_classes).to(device)\n",
        "# model = GRU(input_size, hidden_size, num_layers, num_classes).to(device)\n",
        "model = LSTM(input_size, hidden_size, num_layers, num_classes).to(device)"
      ],
      "execution_count": 23,
      "outputs": []
    },
    {
      "cell_type": "code",
      "metadata": {
        "id": "A-BBH7yLxwGz",
        "colab": {
          "base_uri": "https://localhost:8080/",
          "height": 441
        },
        "collapsed": true,
        "outputId": "12fe3bf0-47a6-4495-c944-e90c7959534c"
      },
      "source": [
        "#loss and optimizer\n",
        "criterion = nn.CrossEntropyLoss()\n",
        "optimizer = optim.Adam(model.parameters(), lr=learning_rate)\n",
        "#train\n",
        "if is_load_model:\n",
        "  load_model()\n",
        "\n",
        "for epoch in range(num_epochs):\n",
        "\n",
        "  if epoch % 2 == 0:\n",
        "    checkpoint = {\"state_dict\": model.state_dict(), \"optimizer\": optimizer.state_dict()}\n",
        "    save_model(checkpoint)\n",
        "\n",
        "  for batch_idx, (data, target) in enumerate(train_loader):\n",
        "    data = data.to(device).squeeze(1) #shape (64, 28, 28)\n",
        "    \n",
        "    target = target.to(device)\n",
        "\n",
        "    #forwad\n",
        "    scores = model(data)\n",
        "    loss = criterion(scores, target)\n",
        "\n",
        "    #backward\n",
        "    optimizer.zero_grad()\n",
        "    loss.backward()\n",
        "\n",
        "    #gradient\n",
        "    optimizer.step()\n",
        "  print(f\"loss at {epoch} is {loss}\")"
      ],
      "execution_count": 24,
      "outputs": [
        {
          "output_type": "stream",
          "text": [
            "<-- Load checkpoint\n",
            "--> Saving checkpoint\n",
            "loss at 0 is 0.030677832663059235\n"
          ],
          "name": "stdout"
        },
        {
          "output_type": "error",
          "ename": "KeyboardInterrupt",
          "evalue": "ignored",
          "traceback": [
            "\u001b[0;31m---------------------------------------------------------------------------\u001b[0m",
            "\u001b[0;31mKeyboardInterrupt\u001b[0m                         Traceback (most recent call last)",
            "\u001b[0;32m<ipython-input-24-2dcd3e0de6b7>\u001b[0m in \u001b[0;36m<module>\u001b[0;34m()\u001b[0m\n\u001b[1;32m     23\u001b[0m     \u001b[0;31m#backward\u001b[0m\u001b[0;34m\u001b[0m\u001b[0;34m\u001b[0m\u001b[0;34m\u001b[0m\u001b[0m\n\u001b[1;32m     24\u001b[0m     \u001b[0moptimizer\u001b[0m\u001b[0;34m.\u001b[0m\u001b[0mzero_grad\u001b[0m\u001b[0;34m(\u001b[0m\u001b[0;34m)\u001b[0m\u001b[0;34m\u001b[0m\u001b[0;34m\u001b[0m\u001b[0m\n\u001b[0;32m---> 25\u001b[0;31m     \u001b[0mloss\u001b[0m\u001b[0;34m.\u001b[0m\u001b[0mbackward\u001b[0m\u001b[0;34m(\u001b[0m\u001b[0;34m)\u001b[0m\u001b[0;34m\u001b[0m\u001b[0;34m\u001b[0m\u001b[0m\n\u001b[0m\u001b[1;32m     26\u001b[0m \u001b[0;34m\u001b[0m\u001b[0m\n\u001b[1;32m     27\u001b[0m     \u001b[0;31m#gradient\u001b[0m\u001b[0;34m\u001b[0m\u001b[0;34m\u001b[0m\u001b[0;34m\u001b[0m\u001b[0m\n",
            "\u001b[0;32m/usr/local/lib/python3.7/dist-packages/torch/tensor.py\u001b[0m in \u001b[0;36mbackward\u001b[0;34m(self, gradient, retain_graph, create_graph, inputs)\u001b[0m\n\u001b[1;32m    243\u001b[0m                 \u001b[0mcreate_graph\u001b[0m\u001b[0;34m=\u001b[0m\u001b[0mcreate_graph\u001b[0m\u001b[0;34m,\u001b[0m\u001b[0;34m\u001b[0m\u001b[0;34m\u001b[0m\u001b[0m\n\u001b[1;32m    244\u001b[0m                 inputs=inputs)\n\u001b[0;32m--> 245\u001b[0;31m         \u001b[0mtorch\u001b[0m\u001b[0;34m.\u001b[0m\u001b[0mautograd\u001b[0m\u001b[0;34m.\u001b[0m\u001b[0mbackward\u001b[0m\u001b[0;34m(\u001b[0m\u001b[0mself\u001b[0m\u001b[0;34m,\u001b[0m \u001b[0mgradient\u001b[0m\u001b[0;34m,\u001b[0m \u001b[0mretain_graph\u001b[0m\u001b[0;34m,\u001b[0m \u001b[0mcreate_graph\u001b[0m\u001b[0;34m,\u001b[0m \u001b[0minputs\u001b[0m\u001b[0;34m=\u001b[0m\u001b[0minputs\u001b[0m\u001b[0;34m)\u001b[0m\u001b[0;34m\u001b[0m\u001b[0;34m\u001b[0m\u001b[0m\n\u001b[0m\u001b[1;32m    246\u001b[0m \u001b[0;34m\u001b[0m\u001b[0m\n\u001b[1;32m    247\u001b[0m     \u001b[0;32mdef\u001b[0m \u001b[0mregister_hook\u001b[0m\u001b[0;34m(\u001b[0m\u001b[0mself\u001b[0m\u001b[0;34m,\u001b[0m \u001b[0mhook\u001b[0m\u001b[0;34m)\u001b[0m\u001b[0;34m:\u001b[0m\u001b[0;34m\u001b[0m\u001b[0;34m\u001b[0m\u001b[0m\n",
            "\u001b[0;32m/usr/local/lib/python3.7/dist-packages/torch/autograd/__init__.py\u001b[0m in \u001b[0;36mbackward\u001b[0;34m(tensors, grad_tensors, retain_graph, create_graph, grad_variables, inputs)\u001b[0m\n\u001b[1;32m    145\u001b[0m     Variable._execution_engine.run_backward(\n\u001b[1;32m    146\u001b[0m         \u001b[0mtensors\u001b[0m\u001b[0;34m,\u001b[0m \u001b[0mgrad_tensors_\u001b[0m\u001b[0;34m,\u001b[0m \u001b[0mretain_graph\u001b[0m\u001b[0;34m,\u001b[0m \u001b[0mcreate_graph\u001b[0m\u001b[0;34m,\u001b[0m \u001b[0minputs\u001b[0m\u001b[0;34m,\u001b[0m\u001b[0;34m\u001b[0m\u001b[0;34m\u001b[0m\u001b[0m\n\u001b[0;32m--> 147\u001b[0;31m         allow_unreachable=True, accumulate_grad=True)  # allow_unreachable flag\n\u001b[0m\u001b[1;32m    148\u001b[0m \u001b[0;34m\u001b[0m\u001b[0m\n\u001b[1;32m    149\u001b[0m \u001b[0;34m\u001b[0m\u001b[0m\n",
            "\u001b[0;31mKeyboardInterrupt\u001b[0m: "
          ]
        }
      ]
    },
    {
      "cell_type": "code",
      "metadata": {
        "colab": {
          "base_uri": "https://localhost:8080/"
        },
        "id": "YjEHARa4yr1l",
        "outputId": "49157785-e887-46b5-9c7a-17b6fe5e0676"
      },
      "source": [
        "def check_accuracy(loader, model):\n",
        "  num_correct = 0\n",
        "  num_samples = 0\n",
        "  model.eval()\n",
        "  with torch.no_grad():\n",
        "    for x, y in loader:\n",
        "      x = x.to(device).squeeze(1)\n",
        "      y = y.to(device)\n",
        "      scores = model(x)\n",
        "      _,predictions = torch.max(scores, dim= 1)\n",
        "      num_correct += (predictions==y).sum()\n",
        "      num_samples += predictions.size(0)\n",
        "    print(f'Got {num_correct}/{num_samples} with accuracy {float(num_correct)/float(num_samples)*100:.2f}')\n",
        "check_accuracy(train_loader, model)\n",
        "check_accuracy(test_loader, model)"
      ],
      "execution_count": null,
      "outputs": [
        {
          "output_type": "stream",
          "text": [
            "Got 58767/60000 with accuracy 97.95\n",
            "Got 58767/60000 with accuracy 97.95\n"
          ],
          "name": "stdout"
        }
      ]
    },
    {
      "cell_type": "markdown",
      "metadata": {
        "id": "s6k3lfLl0AAL"
      },
      "source": [
        ""
      ]
    },
    {
      "cell_type": "code",
      "metadata": {
        "id": "ySoZ6I0lx91G"
      },
      "source": [
        "# RNN: \n",
        "# Got 58541/60000 with accuracy 97.57\n",
        "# Got 58541/60000 with accuracy 97.57\n",
        "\n",
        "# GRU\n",
        "# Got 58597/60000 with accuracy 97.66\n",
        "# Got 58597/60000 with accuracy 97.66\n",
        "\n",
        "#LSTM\n",
        "# Got 58767/60000 with accuracy 97.95\n",
        "# Got 58767/60000 with accuracy 97.95"
      ],
      "execution_count": null,
      "outputs": []
    }
  ]
}